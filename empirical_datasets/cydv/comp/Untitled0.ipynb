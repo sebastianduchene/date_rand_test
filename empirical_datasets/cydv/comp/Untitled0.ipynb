{
 "metadata": {
  "name": "",
  "signature": "sha256:907cce2bb5ceef7d6243168f772affb5b76660232d00c05fda9776b79f5a2867"
 },
 "nbformat": 3,
 "nbformat_minor": 0,
 "worksheets": [
  {
   "cells": [
    {
     "cell_type": "code",
     "collapsed": false,
     "input": [
      "import pandas as pd\n",
      "import numpy as np\n",
      "import subprocess, sys, os, re"
     ],
     "language": "python",
     "metadata": {},
     "outputs": [],
     "prompt_number": 2
    },
    {
     "cell_type": "code",
     "collapsed": false,
     "input": [
      "true_log = list()\n",
      "rand_log = list()\n",
      "for i in os.listdir('.'):\n",
      "    true_find = re.findall(r'.+true[.]log', i)\n",
      "    rand_find = re.findall(r'.+rand.+[.]log', i)\n",
      "    if len(true_find) > 0:\n",
      "        true_log.append(true_find[0])\n",
      "    if len(rand_find) > 0:\n",
      "        rand_log.append(rand_find[0])"
     ],
     "language": "python",
     "metadata": {},
     "outputs": [],
     "prompt_number": 323
    },
    {
     "cell_type": "code",
     "collapsed": false,
     "input": [
      "def read_log_file(file_name):\n",
      "    lines_text = np.array(open(file_name, 'r').readlines())\n",
      "    lines_index = np.array([None is re.match(r'#', i) for i in lines_text])\n",
      "    lines_text = lines_text[lines_index]\n",
      "    lines_break = np.array([re.split('\\t', i) for i in lines_text])\n",
      "    lines_df = pd.DataFrame(data = lines_break[1:], columns = lines_break[0])\n",
      "    lines_df = lines_df.ix[:, 1:(np.shape(lines_df)[1] - 1)]\n",
      "    rate_data = [float(i) for i in lines_df.ix[10:, 'ucldMean']]\n",
      "    mean_rate = np.mean(rate_data)\n",
      "    perc_rate = np.percentile(rate_data, [2.5, 97.5])\n",
      "    perc_rate.insert(0, mean_rate)\n",
      "    return np.array(perc_rate)"
     ],
     "language": "python",
     "metadata": {},
     "outputs": [],
     "prompt_number": 345
    },
    {
     "cell_type": "code",
     "collapsed": false,
     "input": [
      "res_data = read_log_file(true_log[0])"
     ],
     "language": "python",
     "metadata": {},
     "outputs": [],
     "prompt_number": 346
    },
    {
     "cell_type": "code",
     "collapsed": false,
     "input": [
      "for i in rand_log:\n",
      "    res_data = np.vstack([res_data, read_log_file(i)])"
     ],
     "language": "python",
     "metadata": {},
     "outputs": [],
     "prompt_number": 347
    },
    {
     "cell_type": "code",
     "collapsed": false,
     "input": [
      "res_data = pd.DataFrame(res_data, columns=['meanRate', 'lowHPD', 'highHPD'], index = ['true', 'rand1', 'rand2', 'rand3', 'rand4', 'rand5'])"
     ],
     "language": "python",
     "metadata": {},
     "outputs": [],
     "prompt_number": 348
    },
    {
     "cell_type": "code",
     "collapsed": false,
     "input": [
      "res_data.to_csv('res_out.txt', sep = '\\t')"
     ],
     "language": "python",
     "metadata": {},
     "outputs": [],
     "prompt_number": 354
    },
    {
     "cell_type": "code",
     "collapsed": false,
     "input": [],
     "language": "python",
     "metadata": {},
     "outputs": [],
     "prompt_number": 354
    },
    {
     "cell_type": "code",
     "collapsed": false,
     "input": [],
     "language": "python",
     "metadata": {},
     "outputs": [],
     "prompt_number": 241
    },
    {
     "cell_type": "code",
     "collapsed": false,
     "input": [],
     "language": "python",
     "metadata": {},
     "outputs": []
    }
   ],
   "metadata": {}
  }
 ]
}